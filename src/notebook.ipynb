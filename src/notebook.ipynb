{
 "cells": [
  {
   "cell_type": "markdown",
   "metadata": {},
   "source": [
    "# TODO\n",
    "\n",
    "#### Continue with spliting Hand and Player classes"
   ]
  },
  {
   "cell_type": "code",
   "execution_count": 2,
   "metadata": {},
   "outputs": [
    {
     "ename": "ModuleNotFoundError",
     "evalue": "No module named 'card'",
     "output_type": "error",
     "traceback": [
      "\u001b[0;31m---------------------------------------------------------------------------\u001b[0m",
      "\u001b[0;31mModuleNotFoundError\u001b[0m                       Traceback (most recent call last)",
      "Cell \u001b[0;32mIn [2], line 3\u001b[0m\n\u001b[1;32m      1\u001b[0m \u001b[39mimport\u001b[39;00m \u001b[39mrandom\u001b[39;00m\n\u001b[1;32m      2\u001b[0m \u001b[39mfrom\u001b[39;00m \u001b[39msrc\u001b[39;00m\u001b[39m.\u001b[39;00m\u001b[39mcard\u001b[39;00m \u001b[39mimport\u001b[39;00m Card\n\u001b[0;32m----> 3\u001b[0m \u001b[39mfrom\u001b[39;00m \u001b[39msrc\u001b[39;00m\u001b[39m.\u001b[39;00m\u001b[39mdeck\u001b[39;00m \u001b[39mimport\u001b[39;00m Deck\n\u001b[1;32m      4\u001b[0m \u001b[39mfrom\u001b[39;00m \u001b[39msrc\u001b[39;00m\u001b[39m.\u001b[39;00m\u001b[39mparticipant\u001b[39;00m \u001b[39mimport\u001b[39;00m Dealer, Player\n\u001b[1;32m      5\u001b[0m \u001b[39mfrom\u001b[39;00m \u001b[39msrc\u001b[39;00m\u001b[39m.\u001b[39;00m\u001b[39mgame\u001b[39;00m \u001b[39mimport\u001b[39;00m Game\n",
      "File \u001b[0;32m~/Documents/projects/blackjack/src/deck.py:2\u001b[0m\n\u001b[1;32m      1\u001b[0m \u001b[39mimport\u001b[39;00m \u001b[39mrandom\u001b[39;00m\n\u001b[0;32m----> 2\u001b[0m \u001b[39mfrom\u001b[39;00m \u001b[39mcard\u001b[39;00m \u001b[39mimport\u001b[39;00m Card\n\u001b[1;32m      5\u001b[0m \u001b[39mclass\u001b[39;00m \u001b[39mDeck\u001b[39;00m:\n\u001b[1;32m      6\u001b[0m     \u001b[39mdef\u001b[39;00m \u001b[39m__init__\u001b[39m(\u001b[39mself\u001b[39m, decks: \u001b[39mint\u001b[39m \u001b[39m=\u001b[39m \u001b[39m6\u001b[39m) \u001b[39m-\u001b[39m\u001b[39m>\u001b[39m \u001b[39mNone\u001b[39;00m:\n",
      "\u001b[0;31mModuleNotFoundError\u001b[0m: No module named 'card'"
     ]
    }
   ],
   "source": [
    "import random\n",
    "from card import Card\n",
    "from deck import Deck\n",
    "from participant import Dealer, Player\n",
    "from game import Game\n",
    "\n",
    "random.seed(42)\n"
   ]
  },
  {
   "cell_type": "code",
   "execution_count": 2,
   "metadata": {},
   "outputs": [
    {
     "name": "stdout",
     "output_type": "stream",
     "text": [
      "♠A\n",
      "11\n"
     ]
    },
    {
     "data": {
      "text/plain": [
       "True"
      ]
     },
     "execution_count": 2,
     "metadata": {},
     "output_type": "execute_result"
    }
   ],
   "source": [
    "c1 = Card(3, 12)\n",
    "print(c1)\n",
    "print(c1.card_value())\n",
    "c1.is_ace_card()"
   ]
  },
  {
   "cell_type": "code",
   "execution_count": 4,
   "metadata": {},
   "outputs": [
    {
     "name": "stdout",
     "output_type": "stream",
     "text": [
      "312\n",
      "♠7 ♦3 ♣2 ♦5 ♠A ♠10 ♥J ♠4 ♣10 ♠8 ♦8 ♣9 ♠7 ♣9 ♥J ♣7 ♠3 ♣10 ♠6 ♠2 ♦2 ♣A ♣4 ♠J ♦8 ♠Q ♠A ♠2 ♥6 ♠J ♠7 ♦2 ♠4 ♠4 ♠8 ♠9 ♠K ♣6 ♦10 ♥J ♣8 ♦3 ♣A ♥6 ♠9 ♦7 ♥6 ♥6 ♣10 ♣Q ♥9 ♦J ♣4 ♣Q ♦3 ♥6 ♣Q ♠J ♠10 ♦9 ♠10 ♥3 ♦6 ♣9 ♥A ♦J ♥9 ♣6 ♦6 ♠9 ♦A ♥5 ♠A ♦A ♦A ♣5 ♥8 ♣2 ♠2 ♠8 ♦7 ♦Q ♥3 ♦9 ♥Q ♣4 ♥7 ♦3 ♣10 ♦3 ♣K ♥5 ♥K ♠3 ♥9 ♠3 ♣3 ♠2 ♣Q ♥K ♦7 ♠Q ♠A ♦K ♣7 ♠9 ♣K ♥3 ♠5 ♥K ♥4 ♦6 ♥3 ♠4 ♥5 ♣A ♥A ♣10 ♦A ♣2 ♠3 ♦7 ♥10 ♦K ♥9 ♦Q ♥3 ♥A ♦7 ♦4 ♥9 ♦5 ♦5 ♣K ♣Q ♦Q ♥2 ♣7 ♣2 ♦2 ♠A ♥2 ♣2 ♣4 ♥Q ♣A ♥4 ♣6 ♦10 ♠4 ♦A ♦6 ♥10 ♦9 ♥10 ♠5 ♦2 ♠5 ♣5 ♠Q ♦A ♣6 ♥3 ♠5 ♣8 ♦6 ♦2 ♥Q ♦Q ♠8 ♠Q ♣K ♣A ♠7 ♣J ♥A ♥7 ♠3 ♠6 ♣2 ♦8 ♦6 ♠A ♠6 ♥10 ♥10 ♣9 ♣K ♥4 ♠J ♣8 ♥7 ♥K ♣7 ♣9 ♥J ♥Q ♣7 ♠7 ♠6 ♦K ♦8 ♥8 ♣3 ♠J ♥10 ♣3 ♣J ♣K ♠8 ♥K ♦J ♠K ♠3 ♥6 ♥2 ♣10 ♦3 ♣J ♦J ♦4 ♣9 ♣8 ♣J ♥2 ♣5 ♦J ♠5 ♠8 ♣3 ♦K ♥5 ♥8 ♠4 ♦Q ♣7 ♥J ♦9 ♠5 ♥A ♦5 ♣3 ♠10 ♠2 ♣5 ♦K ♣4 ♦10 ♥4 ♥4 ♦8 ♥4 ♣J ♣3 ♠6 ♠10 ♠9 ♦10 ♠Q ♠7 ♥K ♥8 ♦5 ♦7 ♥5 ♣6 ♥A ♦8 ♣8 ♦Q ♠2 ♦5 ♥J ♣5 ♣6 ♦10 ♣8 ♠Q ♠K ♣4 ♥7 ♥2 ♠J ♣5 ♠K ♥2 ♦2 ♥Q ♣A ♥7 ♣J ♠K ♥5 ♠10 ♦4 ♠6 ♥8 ♥7 ♦9 ♦4 ♦4 ♣Q ♠K ♦9 ♠9 ♦10 ♦K ♥8 ♥9 ♥Q ♦4 ♦J\n"
     ]
    }
   ],
   "source": [
    "deck = Deck()\n",
    "print(len(deck))\n",
    "print(deck)\n"
   ]
  },
  {
   "cell_type": "code",
   "execution_count": 6,
   "metadata": {},
   "outputs": [],
   "source": [
    "# game = Game()\n",
    "# game.play_game()\n"
   ]
  },
  {
   "cell_type": "code",
   "execution_count": null,
   "metadata": {},
   "outputs": [],
   "source": []
  },
  {
   "cell_type": "code",
   "execution_count": 2,
   "metadata": {},
   "outputs": [],
   "source": [
    "from game import Game\n"
   ]
  },
  {
   "cell_type": "code",
   "execution_count": 7,
   "metadata": {},
   "outputs": [
    {
     "name": "stdout",
     "output_type": "stream",
     "text": [
      "[<hand.PlayersHand object at 0x103710cd0>]\n",
      "[<hand.DealersHand object at 0x103705460>]\n",
      "Player's 0 hand: ♣2 ♥J ♣5 ♥2 ♥10 ♥3 ♠9 \n",
      "Player's 0 hand value: 41\n",
      "\n",
      "Dealer's 0 hand: ♣2 ♥J ♣5 ♥2 ♥10 ♥3 ♠9 \n",
      "Dealer's 0 hand value: 41\n",
      "\n",
      "False\n"
     ]
    }
   ],
   "source": [
    "\n",
    "game = Game()\n",
    "\n",
    "game.player.new_hand()\n",
    "game.dealer.new_hand()\n",
    "\n",
    "print(game.player.hands)\n",
    "print(game.dealer.hands)\n",
    "\n",
    "game._draw_new_card_from_deck(game.player, 0)\n",
    "game._draw_new_card_from_deck(game.dealer, 0)\n",
    "\n",
    "game.player.print_hand()\n",
    "game.player.print_hand_value()\n",
    "print()\n",
    "\n",
    "game.dealer.print_hand(second_card_hidden=False)\n",
    "game.dealer.print_hand_value(second_card_hidden=False)\n",
    "print()\n",
    "print(game.player.hands[0] == game.dealer.hands[0])\n",
    "\n"
   ]
  },
  {
   "cell_type": "code",
   "execution_count": 18,
   "metadata": {},
   "outputs": [
    {
     "name": "stdout",
     "output_type": "stream",
     "text": [
      "[<hand.DealersHand object at 0x104820fa0>]\n",
      "[<hand.DealersHand object at 0x104cf29d0>]\n",
      "[<hand.PlayersHand object at 0x104dd5d90>]\n",
      "False\n",
      "\n",
      "♦10\n",
      "Dealer's 0 hand: ♦10 \n",
      "Dealer's 0 hand: \n",
      "Player's 0 hand: \n"
     ]
    }
   ],
   "source": [
    "from participant import Dealer, Player\n",
    "from deck import Deck\n",
    "\n",
    "\n",
    "deck = Deck()\n",
    "dealer = Dealer()\n",
    "dealer2 = Dealer()\n",
    "player = Player()\n",
    "\n",
    "dealer.new_hand()\n",
    "dealer2.new_hand()\n",
    "player.new_hand()\n",
    "\n",
    "print(dealer.hands)\n",
    "print(dealer2.hands)\n",
    "print(player.hands)\n",
    "print(dealer.hands == player.hands)\n",
    "print()\n",
    "# p.new_hand()\n",
    "# p.empty_hand()\n",
    "# p.print_hand()\n",
    "# p.print_hand_value()\n",
    "\n",
    "new_card = deck.cards.pop()\n",
    "print(new_card)\n",
    "dealer.hands[0].cards += [new_card]\n",
    "dealer.print_hand(second_card_hidden=False)\n",
    "dealer2.print_hand(second_card_hidden=False)\n",
    "player.print_hand()\n"
   ]
  },
  {
   "cell_type": "code",
   "execution_count": 17,
   "metadata": {},
   "outputs": [
    {
     "name": "stdout",
     "output_type": "stream",
     "text": [
      "♥K\n",
      "♥K \n",
      "♥K ♥K ♥K \n"
     ]
    }
   ],
   "source": [
    "from hand import DealersHand\n",
    "\n",
    "dealers_hand1 = DealersHand(cards=[])\n",
    "dealers_hand2 = DealersHand(cards=[])\n",
    "\n",
    "new_card = deck.cards.pop()\n",
    "print(new_card)\n",
    "dealers_hand1.cards += [new_card]\n",
    "dealers_hand2.cards += [new_card] + [new_card] + [new_card]\n",
    "for card in dealers_hand1.cards:\n",
    "    print(card, end=\" \")\n",
    "print()\n",
    "\n",
    "for card in dealers_hand2.cards:\n",
    "    print(card, end=\" \")\n",
    "print()\n"
   ]
  },
  {
   "cell_type": "code",
   "execution_count": null,
   "metadata": {},
   "outputs": [],
   "source": []
  }
 ],
 "metadata": {
  "kernelspec": {
   "display_name": "venv",
   "language": "python",
   "name": "python3"
  },
  "language_info": {
   "codemirror_mode": {
    "name": "ipython",
    "version": 3
   },
   "file_extension": ".py",
   "mimetype": "text/x-python",
   "name": "python",
   "nbconvert_exporter": "python",
   "pygments_lexer": "ipython3",
   "version": "3.9.13 (main, Sep 29 2022, 16:48:54) \n[Clang 14.0.0 (clang-1400.0.29.102)]"
  },
  "orig_nbformat": 4,
  "vscode": {
   "interpreter": {
    "hash": "f70f134cbd973b764d349e3bf0121a389256bd6c936551f658de84bba3ae9500"
   }
  }
 },
 "nbformat": 4,
 "nbformat_minor": 2
}
