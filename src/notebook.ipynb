{
 "cells": [
  {
   "cell_type": "code",
   "execution_count": 3,
   "metadata": {},
   "outputs": [],
   "source": [
    "import random\n",
    "from card import Card\n",
    "from deck import Deck\n",
    "from participant import Dealer, Player\n",
    "from game import Game\n",
    "\n",
    "random.seed(42)\n"
   ]
  },
  {
   "cell_type": "code",
   "execution_count": 5,
   "metadata": {},
   "outputs": [
    {
     "name": "stdout",
     "output_type": "stream",
     "text": [
      "♠A\n",
      "11\n"
     ]
    },
    {
     "data": {
      "text/plain": [
       "True"
      ]
     },
     "execution_count": 5,
     "metadata": {},
     "output_type": "execute_result"
    }
   ],
   "source": [
    "c1 = Card(3, 12)\n",
    "print(c1)\n",
    "print(c1.card_value())\n",
    "c1.is_ace_card()"
   ]
  },
  {
   "cell_type": "code",
   "execution_count": 10,
   "metadata": {},
   "outputs": [
    {
     "name": "stdout",
     "output_type": "stream",
     "text": [
      "156\n",
      "♠2 ♥5 ♦A ♦8 ♠Q ♥10 ♣4 ♠5 ♠7 ♣J ♠9 ♦Q ♣3 ♦7 ♣K ♠K ♦2 ♥K ♠4 ♥10 ♣9 ♠Q ♣6 ♦2 ♦8 ♠5 ♣2 ♠5 ♣A ♥9 ♠K ♠8 ♦3 ♠4 ♥6 ♦Q ♣8 ♦6 ♠10 ♥6 ♥3 ♦J ♣7 ♣9 ♥10 ♣5 ♣Q ♣8 ♦7 ♣10 ♥J ♥7 ♦10 ♥A ♥Q ♥9 ♥A ♣3 ♠8 ♦A ♣5 ♠4 ♥J ♥K ♥6 ♠7 ♦3 ♣6 ♠J ♥2 ♠A ♠9 ♠6 ♣9 ♠10 ♣4 ♦Q ♣Q ♦9 ♣A ♦5 ♦K ♠Q ♠2 ♥4 ♦8 ♣10 ♣3 ♣K ♠K ♠2 ♠3 ♣7 ♠8 ♣J ♦J ♣4 ♣K ♠J ♣6 ♦10 ♥K ♥4 ♣2 ♣2 ♦A ♠A ♦5 ♠3 ♦7 ♥J ♥8 ♣7 ♦3 ♣10 ♦K ♥A ♥3 ♠6 ♥4 ♦6 ♥5 ♦5 ♦6 ♥3 ♣8 ♠3 ♠10 ♥2 ♠7 ♣5 ♠J ♥2 ♦2 ♥Q ♣A ♥7 ♣J ♥5 ♠A ♠6 ♥8 ♥7 ♦9 ♦4 ♦4 ♣Q ♦9 ♠9 ♦10 ♦K ♥8 ♥9 ♥Q ♦4 ♦J\n"
     ]
    }
   ],
   "source": [
    "deck = Deck()\n",
    "print(len(deck))\n",
    "print(deck)\n"
   ]
  },
  {
   "cell_type": "code",
   "execution_count": 12,
   "metadata": {},
   "outputs": [
    {
     "name": "stdout",
     "output_type": "stream",
     "text": [
      "------------NewGame------------\n",
      " >> Player balance $100\n",
      " >> Player bet $10\n",
      "Dealer hand: ♦7\n",
      "Dealer value: 7\n",
      "Player hand: ♥K ♣J \n",
      "Player value: 20\n",
      "Dealer hand: ♦7 ♥7 ♠3 \n",
      "Dealer value: 17\n",
      " >> Player won! [winning $20.0]\n",
      "0.90 deck status\n",
      "------------NewGame------------\n",
      " >> Player balance $110\n",
      " >> Player bet $10\n",
      "Dealer hand: ♥Q\n",
      "Dealer value: 10\n",
      "Player hand: ♠2 ♣Q \n",
      "Player value: 12\n",
      "Dealer hand: ♥Q ♦A \n",
      "Dealer value: 21\n",
      "Dealer won [losing $10.0]\n",
      "0.83 deck status\n"
     ]
    }
   ],
   "source": [
    "game = Game()\n",
    "game.play_game()\n"
   ]
  },
  {
   "cell_type": "code",
   "execution_count": null,
   "metadata": {},
   "outputs": [],
   "source": []
  }
 ],
 "metadata": {
  "kernelspec": {
   "display_name": "venv",
   "language": "python",
   "name": "python3"
  },
  "language_info": {
   "codemirror_mode": {
    "name": "ipython",
    "version": 3
   },
   "file_extension": ".py",
   "mimetype": "text/x-python",
   "name": "python",
   "nbconvert_exporter": "python",
   "pygments_lexer": "ipython3",
   "version": "3.9.13"
  },
  "orig_nbformat": 4,
  "vscode": {
   "interpreter": {
    "hash": "f70f134cbd973b764d349e3bf0121a389256bd6c936551f658de84bba3ae9500"
   }
  }
 },
 "nbformat": 4,
 "nbformat_minor": 2
}
